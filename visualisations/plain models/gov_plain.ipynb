{
 "cells": [
  {
   "cell_type": "code",
   "execution_count": 2,
   "metadata": {},
   "outputs": [
    {
     "data": {
      "text/plain": [
       "Index(['walletaddress', 'date_created', 'op_token', 'op_tokens_voting',\n",
       "       'ensName', 'ensDescription', 'ensUrl', 'ensTelegram', 'ensTwitter',\n",
       "       'ensGithub', 'ensEmail', 'followCount', 'followCountSpace',\n",
       "       'followCountNonSpace', 'totalVotes', 'totalProposalInteraction',\n",
       "       'totalProposalInteractionInSpace', 'totalProposalInteractionNonSpace',\n",
       "       'totalNft', 'rewardsNft'],\n",
       "      dtype='object')"
      ]
     },
     "execution_count": 2,
     "metadata": {},
     "output_type": "execute_result"
    }
   ],
   "source": [
    "import pandas as pd\n",
    "data = pd.read_csv('/Users/aoamacsplace/Documents/mosaic/new2/simulated_data.csv')\n",
    "\n",
    "\n",
    "data.columns"
   ]
  },
  {
   "cell_type": "code",
   "execution_count": 9,
   "metadata": {},
   "outputs": [
    {
     "name": "stdout",
     "output_type": "stream",
     "text": [
      "Filtered ENS Data:\n",
      "    ensName  op_token  totalVotes  op_tokens_voting  totalProposalInteraction  \\\n",
      "0  d5f8c376      1000        1086                28                        40   \n",
      "1  304b4975      1000        1811               281                        23   \n",
      "2  451530af      1000        1315               379                        10   \n",
      "3  1e27231b      1000        1940               143                        96   \n",
      "4  3688177c      1000        1179               372                       100   \n",
      "5  ddf80f43      1000        1862                72                        75   \n",
      "6  5e2f45d9      1000        1955               463                        88   \n",
      "7  2e9be98e      1000        1588               254                        27   \n",
      "8  75416781      1000        1711               372                        66   \n",
      "\n",
      "   rewardsNft  \n",
      "0           2  \n",
      "1           4  \n",
      "2           8  \n",
      "3           9  \n",
      "4           2  \n",
      "5           1  \n",
      "6           1  \n",
      "7           8  \n",
      "8           4  \n"
     ]
    }
   ],
   "source": [
    "\n",
    "\n",
    "\n",
    "def filter_ens_names(data, conditions):\n",
    "    filtered_names = data.copy()\n",
    "    for column, (min_value, max_value) in conditions.items():\n",
    "        filtered_names = filtered_names[(filtered_names[column] >= min_value) & (filtered_names[column] <= max_value)]\n",
    "    filtered_ens_names = filtered_names[['ensName']].reset_index(drop=True)\n",
    "    return filtered_ens_names\n",
    "\n",
    "ens_data = data.copy()\n",
    "conditions = {\n",
    "    'op_token': (1000, 2000),\n",
    "    'op_tokens_voting': (10, 1000),\n",
    "    'totalProposalInteraction': (10, 100),\n",
    "    'rewardsNft': (0, 10),\n",
    "    'totalVotes': (1000, 2000)\n",
    "}\n",
    "filtered_ens_names = filter_ens_names(ens_data, conditions)\n",
    "selected_columns = ['ensName','op_token', 'totalVotes', 'op_tokens_voting', 'totalProposalInteraction', 'rewardsNft']\n",
    "filtered_ens_data = data[data['ensName'].isin(filtered_ens_names['ensName'])][selected_columns].reset_index(drop=True)\n",
    "print('Filtered ENS Data:')\n",
    "print(filtered_ens_data)"
   ]
  },
  {
   "cell_type": "code",
   "execution_count": 10,
   "metadata": {},
   "outputs": [
    {
     "data": {
      "application/vnd.plotly.v1+json": {
       "config": {
        "plotlyServerURL": "https://plot.ly"
       },
       "data": [
        {
         "alignmentgroup": "True",
         "hovertemplate": "variable=op_token<br>ensName=%{x}<br>value=%{y}<extra></extra>",
         "legendgroup": "op_token",
         "marker": {
          "color": "#636efa",
          "pattern": {
           "shape": ""
          }
         },
         "name": "op_token",
         "offsetgroup": "op_token",
         "orientation": "v",
         "showlegend": true,
         "textposition": "auto",
         "type": "bar",
         "x": [
          "5e2f45d9",
          "451530af",
          "3688177c",
          "75416781",
          "304b4975",
          "2e9be98e",
          "1e27231b",
          "ddf80f43",
          "d5f8c376"
         ],
         "xaxis": "x",
         "y": [
          1000,
          1000,
          1000,
          1000,
          1000,
          1000,
          1000,
          1000,
          1000
         ],
         "yaxis": "y"
        },
        {
         "alignmentgroup": "True",
         "hovertemplate": "variable=totalVotes<br>ensName=%{x}<br>value=%{y}<extra></extra>",
         "legendgroup": "totalVotes",
         "marker": {
          "color": "#EF553B",
          "pattern": {
           "shape": ""
          }
         },
         "name": "totalVotes",
         "offsetgroup": "totalVotes",
         "orientation": "v",
         "showlegend": true,
         "textposition": "auto",
         "type": "bar",
         "x": [
          "5e2f45d9",
          "451530af",
          "3688177c",
          "75416781",
          "304b4975",
          "2e9be98e",
          "1e27231b",
          "ddf80f43",
          "d5f8c376"
         ],
         "xaxis": "x",
         "y": [
          1955,
          1315,
          1179,
          1711,
          1811,
          1588,
          1940,
          1862,
          1086
         ],
         "yaxis": "y"
        },
        {
         "alignmentgroup": "True",
         "hovertemplate": "variable=op_tokens_voting<br>ensName=%{x}<br>value=%{y}<extra></extra>",
         "legendgroup": "op_tokens_voting",
         "marker": {
          "color": "#00cc96",
          "pattern": {
           "shape": ""
          }
         },
         "name": "op_tokens_voting",
         "offsetgroup": "op_tokens_voting",
         "orientation": "v",
         "showlegend": true,
         "textposition": "auto",
         "type": "bar",
         "x": [
          "5e2f45d9",
          "451530af",
          "3688177c",
          "75416781",
          "304b4975",
          "2e9be98e",
          "1e27231b",
          "ddf80f43",
          "d5f8c376"
         ],
         "xaxis": "x",
         "y": [
          463,
          379,
          372,
          372,
          281,
          254,
          143,
          72,
          28
         ],
         "yaxis": "y"
        },
        {
         "alignmentgroup": "True",
         "hovertemplate": "variable=totalProposalInteraction<br>ensName=%{x}<br>value=%{y}<extra></extra>",
         "legendgroup": "totalProposalInteraction",
         "marker": {
          "color": "#ab63fa",
          "pattern": {
           "shape": ""
          }
         },
         "name": "totalProposalInteraction",
         "offsetgroup": "totalProposalInteraction",
         "orientation": "v",
         "showlegend": true,
         "textposition": "auto",
         "type": "bar",
         "x": [
          "5e2f45d9",
          "451530af",
          "3688177c",
          "75416781",
          "304b4975",
          "2e9be98e",
          "1e27231b",
          "ddf80f43",
          "d5f8c376"
         ],
         "xaxis": "x",
         "y": [
          88,
          10,
          100,
          66,
          23,
          27,
          96,
          75,
          40
         ],
         "yaxis": "y"
        },
        {
         "alignmentgroup": "True",
         "hovertemplate": "variable=rewardsNft<br>ensName=%{x}<br>value=%{y}<extra></extra>",
         "legendgroup": "rewardsNft",
         "marker": {
          "color": "#FFA15A",
          "pattern": {
           "shape": ""
          }
         },
         "name": "rewardsNft",
         "offsetgroup": "rewardsNft",
         "orientation": "v",
         "showlegend": true,
         "textposition": "auto",
         "type": "bar",
         "x": [
          "5e2f45d9",
          "451530af",
          "3688177c",
          "75416781",
          "304b4975",
          "2e9be98e",
          "1e27231b",
          "ddf80f43",
          "d5f8c376"
         ],
         "xaxis": "x",
         "y": [
          1,
          8,
          2,
          4,
          4,
          8,
          9,
          1,
          2
         ],
         "yaxis": "y"
        }
       ],
       "layout": {
        "barmode": "relative",
        "legend": {
         "title": {
          "text": "variable"
         },
         "tracegroupgap": 0
        },
        "template": {
         "data": {
          "bar": [
           {
            "error_x": {
             "color": "#2a3f5f"
            },
            "error_y": {
             "color": "#2a3f5f"
            },
            "marker": {
             "line": {
              "color": "#E5ECF6",
              "width": 0.5
             },
             "pattern": {
              "fillmode": "overlay",
              "size": 10,
              "solidity": 0.2
             }
            },
            "type": "bar"
           }
          ],
          "barpolar": [
           {
            "marker": {
             "line": {
              "color": "#E5ECF6",
              "width": 0.5
             },
             "pattern": {
              "fillmode": "overlay",
              "size": 10,
              "solidity": 0.2
             }
            },
            "type": "barpolar"
           }
          ],
          "carpet": [
           {
            "aaxis": {
             "endlinecolor": "#2a3f5f",
             "gridcolor": "white",
             "linecolor": "white",
             "minorgridcolor": "white",
             "startlinecolor": "#2a3f5f"
            },
            "baxis": {
             "endlinecolor": "#2a3f5f",
             "gridcolor": "white",
             "linecolor": "white",
             "minorgridcolor": "white",
             "startlinecolor": "#2a3f5f"
            },
            "type": "carpet"
           }
          ],
          "choropleth": [
           {
            "colorbar": {
             "outlinewidth": 0,
             "ticks": ""
            },
            "type": "choropleth"
           }
          ],
          "contour": [
           {
            "colorbar": {
             "outlinewidth": 0,
             "ticks": ""
            },
            "colorscale": [
             [
              0,
              "#0d0887"
             ],
             [
              0.1111111111111111,
              "#46039f"
             ],
             [
              0.2222222222222222,
              "#7201a8"
             ],
             [
              0.3333333333333333,
              "#9c179e"
             ],
             [
              0.4444444444444444,
              "#bd3786"
             ],
             [
              0.5555555555555556,
              "#d8576b"
             ],
             [
              0.6666666666666666,
              "#ed7953"
             ],
             [
              0.7777777777777778,
              "#fb9f3a"
             ],
             [
              0.8888888888888888,
              "#fdca26"
             ],
             [
              1,
              "#f0f921"
             ]
            ],
            "type": "contour"
           }
          ],
          "contourcarpet": [
           {
            "colorbar": {
             "outlinewidth": 0,
             "ticks": ""
            },
            "type": "contourcarpet"
           }
          ],
          "heatmap": [
           {
            "colorbar": {
             "outlinewidth": 0,
             "ticks": ""
            },
            "colorscale": [
             [
              0,
              "#0d0887"
             ],
             [
              0.1111111111111111,
              "#46039f"
             ],
             [
              0.2222222222222222,
              "#7201a8"
             ],
             [
              0.3333333333333333,
              "#9c179e"
             ],
             [
              0.4444444444444444,
              "#bd3786"
             ],
             [
              0.5555555555555556,
              "#d8576b"
             ],
             [
              0.6666666666666666,
              "#ed7953"
             ],
             [
              0.7777777777777778,
              "#fb9f3a"
             ],
             [
              0.8888888888888888,
              "#fdca26"
             ],
             [
              1,
              "#f0f921"
             ]
            ],
            "type": "heatmap"
           }
          ],
          "heatmapgl": [
           {
            "colorbar": {
             "outlinewidth": 0,
             "ticks": ""
            },
            "colorscale": [
             [
              0,
              "#0d0887"
             ],
             [
              0.1111111111111111,
              "#46039f"
             ],
             [
              0.2222222222222222,
              "#7201a8"
             ],
             [
              0.3333333333333333,
              "#9c179e"
             ],
             [
              0.4444444444444444,
              "#bd3786"
             ],
             [
              0.5555555555555556,
              "#d8576b"
             ],
             [
              0.6666666666666666,
              "#ed7953"
             ],
             [
              0.7777777777777778,
              "#fb9f3a"
             ],
             [
              0.8888888888888888,
              "#fdca26"
             ],
             [
              1,
              "#f0f921"
             ]
            ],
            "type": "heatmapgl"
           }
          ],
          "histogram": [
           {
            "marker": {
             "pattern": {
              "fillmode": "overlay",
              "size": 10,
              "solidity": 0.2
             }
            },
            "type": "histogram"
           }
          ],
          "histogram2d": [
           {
            "colorbar": {
             "outlinewidth": 0,
             "ticks": ""
            },
            "colorscale": [
             [
              0,
              "#0d0887"
             ],
             [
              0.1111111111111111,
              "#46039f"
             ],
             [
              0.2222222222222222,
              "#7201a8"
             ],
             [
              0.3333333333333333,
              "#9c179e"
             ],
             [
              0.4444444444444444,
              "#bd3786"
             ],
             [
              0.5555555555555556,
              "#d8576b"
             ],
             [
              0.6666666666666666,
              "#ed7953"
             ],
             [
              0.7777777777777778,
              "#fb9f3a"
             ],
             [
              0.8888888888888888,
              "#fdca26"
             ],
             [
              1,
              "#f0f921"
             ]
            ],
            "type": "histogram2d"
           }
          ],
          "histogram2dcontour": [
           {
            "colorbar": {
             "outlinewidth": 0,
             "ticks": ""
            },
            "colorscale": [
             [
              0,
              "#0d0887"
             ],
             [
              0.1111111111111111,
              "#46039f"
             ],
             [
              0.2222222222222222,
              "#7201a8"
             ],
             [
              0.3333333333333333,
              "#9c179e"
             ],
             [
              0.4444444444444444,
              "#bd3786"
             ],
             [
              0.5555555555555556,
              "#d8576b"
             ],
             [
              0.6666666666666666,
              "#ed7953"
             ],
             [
              0.7777777777777778,
              "#fb9f3a"
             ],
             [
              0.8888888888888888,
              "#fdca26"
             ],
             [
              1,
              "#f0f921"
             ]
            ],
            "type": "histogram2dcontour"
           }
          ],
          "mesh3d": [
           {
            "colorbar": {
             "outlinewidth": 0,
             "ticks": ""
            },
            "type": "mesh3d"
           }
          ],
          "parcoords": [
           {
            "line": {
             "colorbar": {
              "outlinewidth": 0,
              "ticks": ""
             }
            },
            "type": "parcoords"
           }
          ],
          "pie": [
           {
            "automargin": true,
            "type": "pie"
           }
          ],
          "scatter": [
           {
            "fillpattern": {
             "fillmode": "overlay",
             "size": 10,
             "solidity": 0.2
            },
            "type": "scatter"
           }
          ],
          "scatter3d": [
           {
            "line": {
             "colorbar": {
              "outlinewidth": 0,
              "ticks": ""
             }
            },
            "marker": {
             "colorbar": {
              "outlinewidth": 0,
              "ticks": ""
             }
            },
            "type": "scatter3d"
           }
          ],
          "scattercarpet": [
           {
            "marker": {
             "colorbar": {
              "outlinewidth": 0,
              "ticks": ""
             }
            },
            "type": "scattercarpet"
           }
          ],
          "scattergeo": [
           {
            "marker": {
             "colorbar": {
              "outlinewidth": 0,
              "ticks": ""
             }
            },
            "type": "scattergeo"
           }
          ],
          "scattergl": [
           {
            "marker": {
             "colorbar": {
              "outlinewidth": 0,
              "ticks": ""
             }
            },
            "type": "scattergl"
           }
          ],
          "scattermapbox": [
           {
            "marker": {
             "colorbar": {
              "outlinewidth": 0,
              "ticks": ""
             }
            },
            "type": "scattermapbox"
           }
          ],
          "scatterpolar": [
           {
            "marker": {
             "colorbar": {
              "outlinewidth": 0,
              "ticks": ""
             }
            },
            "type": "scatterpolar"
           }
          ],
          "scatterpolargl": [
           {
            "marker": {
             "colorbar": {
              "outlinewidth": 0,
              "ticks": ""
             }
            },
            "type": "scatterpolargl"
           }
          ],
          "scatterternary": [
           {
            "marker": {
             "colorbar": {
              "outlinewidth": 0,
              "ticks": ""
             }
            },
            "type": "scatterternary"
           }
          ],
          "surface": [
           {
            "colorbar": {
             "outlinewidth": 0,
             "ticks": ""
            },
            "colorscale": [
             [
              0,
              "#0d0887"
             ],
             [
              0.1111111111111111,
              "#46039f"
             ],
             [
              0.2222222222222222,
              "#7201a8"
             ],
             [
              0.3333333333333333,
              "#9c179e"
             ],
             [
              0.4444444444444444,
              "#bd3786"
             ],
             [
              0.5555555555555556,
              "#d8576b"
             ],
             [
              0.6666666666666666,
              "#ed7953"
             ],
             [
              0.7777777777777778,
              "#fb9f3a"
             ],
             [
              0.8888888888888888,
              "#fdca26"
             ],
             [
              1,
              "#f0f921"
             ]
            ],
            "type": "surface"
           }
          ],
          "table": [
           {
            "cells": {
             "fill": {
              "color": "#EBF0F8"
             },
             "line": {
              "color": "white"
             }
            },
            "header": {
             "fill": {
              "color": "#C8D4E3"
             },
             "line": {
              "color": "white"
             }
            },
            "type": "table"
           }
          ]
         },
         "layout": {
          "annotationdefaults": {
           "arrowcolor": "#2a3f5f",
           "arrowhead": 0,
           "arrowwidth": 1
          },
          "autotypenumbers": "strict",
          "coloraxis": {
           "colorbar": {
            "outlinewidth": 0,
            "ticks": ""
           }
          },
          "colorscale": {
           "diverging": [
            [
             0,
             "#8e0152"
            ],
            [
             0.1,
             "#c51b7d"
            ],
            [
             0.2,
             "#de77ae"
            ],
            [
             0.3,
             "#f1b6da"
            ],
            [
             0.4,
             "#fde0ef"
            ],
            [
             0.5,
             "#f7f7f7"
            ],
            [
             0.6,
             "#e6f5d0"
            ],
            [
             0.7,
             "#b8e186"
            ],
            [
             0.8,
             "#7fbc41"
            ],
            [
             0.9,
             "#4d9221"
            ],
            [
             1,
             "#276419"
            ]
           ],
           "sequential": [
            [
             0,
             "#0d0887"
            ],
            [
             0.1111111111111111,
             "#46039f"
            ],
            [
             0.2222222222222222,
             "#7201a8"
            ],
            [
             0.3333333333333333,
             "#9c179e"
            ],
            [
             0.4444444444444444,
             "#bd3786"
            ],
            [
             0.5555555555555556,
             "#d8576b"
            ],
            [
             0.6666666666666666,
             "#ed7953"
            ],
            [
             0.7777777777777778,
             "#fb9f3a"
            ],
            [
             0.8888888888888888,
             "#fdca26"
            ],
            [
             1,
             "#f0f921"
            ]
           ],
           "sequentialminus": [
            [
             0,
             "#0d0887"
            ],
            [
             0.1111111111111111,
             "#46039f"
            ],
            [
             0.2222222222222222,
             "#7201a8"
            ],
            [
             0.3333333333333333,
             "#9c179e"
            ],
            [
             0.4444444444444444,
             "#bd3786"
            ],
            [
             0.5555555555555556,
             "#d8576b"
            ],
            [
             0.6666666666666666,
             "#ed7953"
            ],
            [
             0.7777777777777778,
             "#fb9f3a"
            ],
            [
             0.8888888888888888,
             "#fdca26"
            ],
            [
             1,
             "#f0f921"
            ]
           ]
          },
          "colorway": [
           "#636efa",
           "#EF553B",
           "#00cc96",
           "#ab63fa",
           "#FFA15A",
           "#19d3f3",
           "#FF6692",
           "#B6E880",
           "#FF97FF",
           "#FECB52"
          ],
          "font": {
           "color": "#2a3f5f"
          },
          "geo": {
           "bgcolor": "white",
           "lakecolor": "white",
           "landcolor": "#E5ECF6",
           "showlakes": true,
           "showland": true,
           "subunitcolor": "white"
          },
          "hoverlabel": {
           "align": "left"
          },
          "hovermode": "closest",
          "mapbox": {
           "style": "light"
          },
          "paper_bgcolor": "white",
          "plot_bgcolor": "#E5ECF6",
          "polar": {
           "angularaxis": {
            "gridcolor": "white",
            "linecolor": "white",
            "ticks": ""
           },
           "bgcolor": "#E5ECF6",
           "radialaxis": {
            "gridcolor": "white",
            "linecolor": "white",
            "ticks": ""
           }
          },
          "scene": {
           "xaxis": {
            "backgroundcolor": "#E5ECF6",
            "gridcolor": "white",
            "gridwidth": 2,
            "linecolor": "white",
            "showbackground": true,
            "ticks": "",
            "zerolinecolor": "white"
           },
           "yaxis": {
            "backgroundcolor": "#E5ECF6",
            "gridcolor": "white",
            "gridwidth": 2,
            "linecolor": "white",
            "showbackground": true,
            "ticks": "",
            "zerolinecolor": "white"
           },
           "zaxis": {
            "backgroundcolor": "#E5ECF6",
            "gridcolor": "white",
            "gridwidth": 2,
            "linecolor": "white",
            "showbackground": true,
            "ticks": "",
            "zerolinecolor": "white"
           }
          },
          "shapedefaults": {
           "line": {
            "color": "#2a3f5f"
           }
          },
          "ternary": {
           "aaxis": {
            "gridcolor": "white",
            "linecolor": "white",
            "ticks": ""
           },
           "baxis": {
            "gridcolor": "white",
            "linecolor": "white",
            "ticks": ""
           },
           "bgcolor": "#E5ECF6",
           "caxis": {
            "gridcolor": "white",
            "linecolor": "white",
            "ticks": ""
           }
          },
          "title": {
           "x": 0.05
          },
          "xaxis": {
           "automargin": true,
           "gridcolor": "white",
           "linecolor": "white",
           "ticks": "",
           "title": {
            "standoff": 15
           },
           "zerolinecolor": "white",
           "zerolinewidth": 2
          },
          "yaxis": {
           "automargin": true,
           "gridcolor": "white",
           "linecolor": "white",
           "ticks": "",
           "title": {
            "standoff": 15
           },
           "zerolinecolor": "white",
           "zerolinewidth": 2
          }
         }
        },
        "title": {
         "text": "Filtered ENS Data"
        },
        "xaxis": {
         "anchor": "y",
         "domain": [
          0,
          1
         ],
         "title": {
          "text": "ensName"
         }
        },
        "yaxis": {
         "anchor": "x",
         "domain": [
          0,
          1
         ],
         "title": {
          "text": "value"
         }
        }
       }
      }
     },
     "metadata": {},
     "output_type": "display_data"
    }
   ],
   "source": [
    "\n",
    "\n",
    "fig = px.bar(filtered_ens_data.sort_values(by = 'op_tokens_voting', ascending=False), x='ensName', y=selected_columns, title='Filtered ENS Data')\n",
    "fig.show()\n"
   ]
  },
  {
   "cell_type": "code",
   "execution_count": 13,
   "metadata": {},
   "outputs": [
    {
     "name": "stdout",
     "output_type": "stream",
     "text": [
      "Statistics for the Governance Model:\n",
      "----------------------------------------------\n",
      "Total Number of ENS Names: 9\n",
      "Average Number of Proposals per ENS Name:\n",
      "ensName\n",
      "1e27231b     96.0\n",
      "2e9be98e     27.0\n",
      "304b4975     23.0\n",
      "3688177c    100.0\n",
      "451530af     10.0\n",
      "5e2f45d9     88.0\n",
      "75416781     66.0\n",
      "d5f8c376     40.0\n",
      "ddf80f43     75.0\n",
      "Name: totalProposalInteraction, dtype: float64\n",
      "ENS Name(s) with the Maximum Number of Proposals: 3688177c\n",
      "ENS Name(s) with the Minimum Number of Proposals: 451530af\n",
      "Total Number of Votes: 14447\n",
      "Average Number of Votes per Proposal: 1605.2222222222222\n",
      "ENS Name(s) with the Maximum Number of Votes: 5e2f45d9\n",
      "ENS Name(s) with the Minimum Number of Votes: d5f8c376\n",
      "Proposal Success Rate (%): 100.0\n",
      "Top Contributors:\n",
      "ensName\n",
      "5e2f45d9    1955\n",
      "1e27231b    1940\n",
      "ddf80f43    1862\n",
      "Name: totalVotes, dtype: int64\n",
      "Proposal Interaction Distribution:\n",
      "totalProposalInteraction\n",
      "High         5\n",
      "Medium       3\n",
      "Low          1\n",
      "Very High    0\n",
      "Name: count, dtype: int64\n"
     ]
    }
   ],
   "source": [
    "\n",
    "total_ens_names = len(filtered_ens_data['ensName'])\n",
    "average_proposals_per_ens = filtered_ens_data.groupby('ensName')['totalProposalInteraction'].mean()\n",
    "max_proposals_ens = filtered_ens_data.loc[filtered_ens_data['totalProposalInteraction'].idxmax(), 'ensName']\n",
    "min_proposals_ens = filtered_ens_data.loc[filtered_ens_data['totalProposalInteraction'].idxmin(), 'ensName']\n",
    "total_votes = filtered_ens_data['totalVotes'].sum()\n",
    "average_votes_per_proposal = filtered_ens_data['totalVotes'].mean()\n",
    "max_votes_ens = filtered_ens_data.loc[filtered_ens_data['totalVotes'].idxmax(), 'ensName']\n",
    "min_votes_ens = filtered_ens_data.loc[filtered_ens_data['totalVotes'].idxmin(), 'ensName']\n",
    "proposal_success_rate = (filtered_ens_data['totalProposalInteraction'] > 0).mean() * 100\n",
    "top_contributors = filtered_ens_data.groupby('ensName')['totalVotes'].sum().nlargest(3)\n",
    "proposal_interaction_distribution = pd.cut(filtered_ens_data['totalProposalInteraction'], bins=[0, 10, 50, 100, float('inf')], labels=['Low', 'Medium', 'High', 'Very High']).value_counts()\n",
    "\n",
    "\n",
    "print(\"Statistics for the Governance Model:\")\n",
    "print(\"----------------------------------------------\")\n",
    "print(\"Total Number of ENS Names:\", total_ens_names)\n",
    "print(\"Average Number of Proposals per ENS Name:\")\n",
    "print(average_proposals_per_ens)\n",
    "print(\"ENS Name(s) with the Maximum Number of Proposals:\", max_proposals_ens)\n",
    "print(\"ENS Name(s) with the Minimum Number of Proposals:\", min_proposals_ens)\n",
    "print(\"Total Number of Votes:\", total_votes)\n",
    "print(\"Average Number of Votes per Proposal:\", average_votes_per_proposal)\n",
    "print(\"ENS Name(s) with the Maximum Number of Votes:\", max_votes_ens)\n",
    "print(\"ENS Name(s) with the Minimum Number of Votes:\", min_votes_ens)\n",
    "print(\"Proposal Success Rate (%):\", proposal_success_rate)\n",
    "print(\"Top Contributors:\")\n",
    "print(top_contributors)\n",
    "print(\"Proposal Interaction Distribution:\")\n",
    "print(proposal_interaction_distribution)\n"
   ]
  },
  {
   "cell_type": "code",
   "execution_count": 14,
   "metadata": {},
   "outputs": [
    {
     "name": "stdout",
     "output_type": "stream",
     "text": [
      "Standard Deviation of totalVotes: 575.2403129903537\n"
     ]
    }
   ],
   "source": [
    "\n",
    "import numpy as np\n",
    "\n",
    "selected_column = 'totalVotes'  # Replace with your desired column\n",
    "\n",
    "std_dev = np.std(data[selected_column])\n",
    "print(f\"Standard Deviation of {selected_column}: {std_dev}\")\n"
   ]
  },
  {
   "cell_type": "code",
   "execution_count": null,
   "metadata": {},
   "outputs": [],
   "source": []
  }
 ],
 "metadata": {
  "kernelspec": {
   "display_name": "venv",
   "language": "python",
   "name": "python3"
  },
  "language_info": {
   "codemirror_mode": {
    "name": "ipython",
    "version": 3
   },
   "file_extension": ".py",
   "mimetype": "text/x-python",
   "name": "python",
   "nbconvert_exporter": "python",
   "pygments_lexer": "ipython3",
   "version": "3.9.13"
  },
  "orig_nbformat": 4
 },
 "nbformat": 4,
 "nbformat_minor": 2
}
